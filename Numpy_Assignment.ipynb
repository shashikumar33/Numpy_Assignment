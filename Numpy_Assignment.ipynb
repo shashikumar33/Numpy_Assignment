{
  "nbformat": 4,
  "nbformat_minor": 0,
  "metadata": {
    "colab": {
      "provenance": []
    },
    "kernelspec": {
      "name": "python3",
      "display_name": "Python 3"
    },
    "language_info": {
      "name": "python"
    }
  },
  "cells": [
    {
      "cell_type": "code",
      "execution_count": 1,
      "metadata": {
        "colab": {
          "base_uri": "https://localhost:8080/",
          "height": 36
        },
        "id": "-oS1vJAUzMuD",
        "outputId": "6ffd12cf-2ca5-4ddc-cfd9-a514c4287fb7"
      },
      "outputs": [
        {
          "output_type": "execute_result",
          "data": {
            "text/plain": [
              "' 1. What is a Python library? Why do we use Python libraries?'"
            ],
            "application/vnd.google.colaboratory.intrinsic+json": {
              "type": "string"
            }
          },
          "metadata": {},
          "execution_count": 1
        }
      ],
      "source": [
        "\" 1. What is a Python library? Why do we use Python libraries?\""
      ]
    },
    {
      "cell_type": "code",
      "source": [
        "# Python library is a collection of function.\n",
        "# Python libraries serve several purposes:\n",
        "# 1. Code Reusability:\n",
        "# 2. optimized\n",
        "# 3. Efficiency:\n",
        "# 4. Rapid Development\n",
        "#Python libraries are essential tools that empower developers by offering pre-built functionalities,\n",
        "# promoting code reuse, and fostering a collaborative environment within the Python community."
      ],
      "metadata": {
        "id": "f87cTg18zhdB"
      },
      "execution_count": 2,
      "outputs": []
    },
    {
      "cell_type": "code",
      "source": [
        "\" 2. What is the difference between Numpy array and List?\""
      ],
      "metadata": {
        "colab": {
          "base_uri": "https://localhost:8080/",
          "height": 36
        },
        "id": "AcS59oCf1n3b",
        "outputId": "c928b3e9-4b98-4c6c-c873-823d62e4bdd9"
      },
      "execution_count": 3,
      "outputs": [
        {
          "output_type": "execute_result",
          "data": {
            "text/plain": [
              "' 2. What is the difference between Numpy array and List?'"
            ],
            "application/vnd.google.colaboratory.intrinsic+json": {
              "type": "string"
            }
          },
          "metadata": {},
          "execution_count": 3
        }
      ]
    },
    {
      "cell_type": "code",
      "source": [
        "# In a Python list, you can have elements of different data types. For example, a list can contain integers, strings, and other objects in any combination.\n",
        "# NumPy arrays, on the other hand, are homogeneous, meaning all elements must be of the same data type.\n",
        "# This homogeneity allows for more efficient storage and operations on the data."
      ],
      "metadata": {
        "id": "h75lwZWw1xak"
      },
      "execution_count": 4,
      "outputs": []
    },
    {
      "cell_type": "code",
      "source": [
        "\"\"\"\n",
        " 3. Find the shape, size and dimension of the following array?\n",
        " [[1, 2, 3, 4]\n",
        " [5, 6, 7, 8],\n",
        " [9, 10, 11, 12]]\n",
        " \"\"\""
      ],
      "metadata": {
        "colab": {
          "base_uri": "https://localhost:8080/",
          "height": 36
        },
        "id": "yhka_DOc3HJq",
        "outputId": "44c3e2c6-3777-430f-b20e-eb4761707812"
      },
      "execution_count": 5,
      "outputs": [
        {
          "output_type": "execute_result",
          "data": {
            "text/plain": [
              "'\\n 3. Find the shape, size and dimension of the following array?\\n [[1, 2, 3, 4]\\n [5, 6, 7, 8],\\n [9, 10, 11, 12]]\\n '"
            ],
            "application/vnd.google.colaboratory.intrinsic+json": {
              "type": "string"
            }
          },
          "metadata": {},
          "execution_count": 5
        }
      ]
    },
    {
      "cell_type": "code",
      "source": [
        "import numpy as np\n",
        "arr=np.array([[1,2,3,4],[5,6,7,8],[9,10,11,12]])\n",
        "arr_shape=arr.shape\n",
        "arr_size=arr.size\n",
        "arr_dim=arr.ndim\n",
        "print(\"Array_shape\", arr_shape)\n",
        "print(\"Array size\", arr_size)\n",
        "print(\"Array dimension\", arr_dim)"
      ],
      "metadata": {
        "colab": {
          "base_uri": "https://localhost:8080/"
        },
        "id": "ZaRbFSVr3Olv",
        "outputId": "dc478a89-750e-4625-d92b-b07fde452985"
      },
      "execution_count": 9,
      "outputs": [
        {
          "output_type": "stream",
          "name": "stdout",
          "text": [
            "Array_shape (3, 4)\n",
            "Array size 12\n",
            "Array dimension 2\n"
          ]
        }
      ]
    },
    {
      "cell_type": "code",
      "source": [
        "\"\"\"\n",
        " 4. Write python code to access the first row of the following array?\n",
        " [[1, 2, 3, 4]\n",
        " [5, 6, 7, 8],\n",
        " [9, 10, 11, 12]]\n",
        " \"\"\""
      ],
      "metadata": {
        "colab": {
          "base_uri": "https://localhost:8080/",
          "height": 36
        },
        "id": "NkTZfmHQ3ud3",
        "outputId": "67245eb6-4e28-4e78-b457-0d7cdd4ad80c"
      },
      "execution_count": 10,
      "outputs": [
        {
          "output_type": "execute_result",
          "data": {
            "text/plain": [
              "'\\n 4. Write python code to access the first row of the following array?\\n [[1, 2, 3, 4]\\n [5, 6, 7, 8],\\n [9, 10, 11, 12]]\\n '"
            ],
            "application/vnd.google.colaboratory.intrinsic+json": {
              "type": "string"
            }
          },
          "metadata": {},
          "execution_count": 10
        }
      ]
    },
    {
      "cell_type": "code",
      "source": [
        "arr1=np.array([[1,2,3,4],[5,6,7,8],[9,10,11,12]])\n",
        "first_row=arr1[0]\n",
        "print(\"The first row of given array are:-\", first_row)"
      ],
      "metadata": {
        "colab": {
          "base_uri": "https://localhost:8080/"
        },
        "id": "latZV_Kw5Lqp",
        "outputId": "4cc3ce62-796f-4a2b-cbb7-88ff110fac7f"
      },
      "execution_count": 15,
      "outputs": [
        {
          "output_type": "stream",
          "name": "stdout",
          "text": [
            "The first row of given array are:- [1 2 3 4]\n"
          ]
        }
      ]
    },
    {
      "cell_type": "code",
      "source": [
        "\"\"\"\n",
        "5. How do you access the element at the third row and fourth column from the given numpy array?\n",
        " [[1, 2, 3, 4]\n",
        " [5, 6, 7, 8],\n",
        " [9, 10, 11, 12]]\n",
        " \"\"\""
      ],
      "metadata": {
        "colab": {
          "base_uri": "https://localhost:8080/",
          "height": 36
        },
        "id": "W0ypKjhL5prg",
        "outputId": "f15e3370-74cf-4ffd-d4cf-f6a6334c0c44"
      },
      "execution_count": 14,
      "outputs": [
        {
          "output_type": "execute_result",
          "data": {
            "text/plain": [
              "'\\n5. How do you access the element at the third row and fourth column from the given numpy array?\\n [[1, 2, 3, 4]\\n [5, 6, 7, 8],\\n [9, 10, 11, 12]]\\n '"
            ],
            "application/vnd.google.colaboratory.intrinsic+json": {
              "type": "string"
            }
          },
          "metadata": {},
          "execution_count": 14
        }
      ]
    },
    {
      "cell_type": "code",
      "source": [
        "arr2=np.array([[1,2,3,4],[5,6,7,8],[9,10,11,12]])\n",
        "element=arr2[2,3]\n",
        "print(\"element at the 3rd row and 4th coloum: \", element)"
      ],
      "metadata": {
        "colab": {
          "base_uri": "https://localhost:8080/"
        },
        "id": "xTm89fvg6Lfm",
        "outputId": "36f3b09c-cf74-4fee-e079-5883362186dd"
      },
      "execution_count": 20,
      "outputs": [
        {
          "output_type": "stream",
          "name": "stdout",
          "text": [
            "element at the 3rd row and 4th coloum:  12\n"
          ]
        }
      ]
    },
    {
      "cell_type": "code",
      "source": [
        "\"\"\" 6. Write code to extract all odd-indexed elements from the given numpy array?\n",
        " [[1, 2, 3, 4]\n",
        " [5, 6, 7, 8],\n",
        " [9, 10, 11, 12]]\"\"\""
      ],
      "metadata": {
        "colab": {
          "base_uri": "https://localhost:8080/",
          "height": 36
        },
        "id": "eFU2g_AP6ucg",
        "outputId": "ef3c9384-4976-459a-99ef-ad063d3ec627"
      },
      "execution_count": 21,
      "outputs": [
        {
          "output_type": "execute_result",
          "data": {
            "text/plain": [
              "' 6. Write code to extract all odd-indexed elements from the given numpy array?\\n [[1, 2, 3, 4]\\n [5, 6, 7, 8],\\n [9, 10, 11, 12]]'"
            ],
            "application/vnd.google.colaboratory.intrinsic+json": {
              "type": "string"
            }
          },
          "metadata": {},
          "execution_count": 21
        }
      ]
    },
    {
      "cell_type": "code",
      "source": [
        "arr3=np.array([[1,2,3,4],\n",
        "               [5,6,7,8],\n",
        "               [9,10,11,12]])\n",
        "odd_index_element=arr3[:,[1,3]].flatten()\n",
        "print(\"all odd-indexed elements are \", odd_index_element)"
      ],
      "metadata": {
        "colab": {
          "base_uri": "https://localhost:8080/"
        },
        "id": "1pRvJEOc89Jy",
        "outputId": "f61ac84b-b64c-4a51-c3fa-b97e4eec6573"
      },
      "execution_count": 23,
      "outputs": [
        {
          "output_type": "stream",
          "name": "stdout",
          "text": [
            "all odd-indexed elements are  [ 2  4  6  8 10 12]\n"
          ]
        }
      ]
    },
    {
      "cell_type": "code",
      "source": [
        "\"7. How can you generate a random 3x3 matrix with values between 0 and 1?\""
      ],
      "metadata": {
        "colab": {
          "base_uri": "https://localhost:8080/",
          "height": 36
        },
        "id": "hHr-ONqM-oCM",
        "outputId": "d3556d1e-8168-4e0c-cdb8-8781d388bf0e"
      },
      "execution_count": 24,
      "outputs": [
        {
          "output_type": "execute_result",
          "data": {
            "text/plain": [
              "'7. How can you generate a random 3x3 matrix with values between 0 and 1?'"
            ],
            "application/vnd.google.colaboratory.intrinsic+json": {
              "type": "string"
            }
          },
          "metadata": {},
          "execution_count": 24
        }
      ]
    },
    {
      "cell_type": "code",
      "source": [
        "arr4=np.random.rand(3,3)\n",
        "arr4"
      ],
      "metadata": {
        "colab": {
          "base_uri": "https://localhost:8080/"
        },
        "id": "3fU7eb7Q_S7O",
        "outputId": "c5b29c1d-6415-4f89-ce26-7ce7b18eb62b"
      },
      "execution_count": 42,
      "outputs": [
        {
          "output_type": "execute_result",
          "data": {
            "text/plain": [
              "array([[0.54373073, 0.15953218, 0.89463257],\n",
              "       [0.21526571, 0.93513972, 0.28635963],\n",
              "       [0.35010428, 0.56517084, 0.53451251]])"
            ]
          },
          "metadata": {},
          "execution_count": 42
        }
      ]
    },
    {
      "cell_type": "code",
      "source": [
        "\" 8. Describe the difference between np.random.rand and np.random.randn?\""
      ],
      "metadata": {
        "colab": {
          "base_uri": "https://localhost:8080/",
          "height": 36
        },
        "id": "2yUnayU4AP58",
        "outputId": "38ae0db5-e398-4696-93a6-63448039c2d6"
      },
      "execution_count": 36,
      "outputs": [
        {
          "output_type": "execute_result",
          "data": {
            "text/plain": [
              "' 8. Describe the difference between np.random.rand and np.random.randn?'"
            ],
            "application/vnd.google.colaboratory.intrinsic+json": {
              "type": "string"
            }
          },
          "metadata": {},
          "execution_count": 36
        }
      ]
    },
    {
      "cell_type": "code",
      "source": [
        "#np.random.rand generates random numbers from a uniform distribution between 0 and 1,\n",
        "#while np.random.randn generates random numbers from a standard normal distribution with a mean of 0 and a standard deviation of 1."
      ],
      "metadata": {
        "id": "ktOHhjOzBx2e"
      },
      "execution_count": 39,
      "outputs": []
    },
    {
      "cell_type": "code",
      "source": [
        "\"\"\" 9. Write code to increase the dimension of the following array?\n",
        " [[1, 2, 3, 4]\n",
        " [5, 6, 7, 8],\n",
        " [9, 10, 11, 12]]\"\"\""
      ],
      "metadata": {
        "colab": {
          "base_uri": "https://localhost:8080/",
          "height": 36
        },
        "id": "KXTUIhc5Cgyi",
        "outputId": "8e36dd24-18b4-499d-f287-1cc71380906a"
      },
      "execution_count": 43,
      "outputs": [
        {
          "output_type": "execute_result",
          "data": {
            "text/plain": [
              "' 9. Write code to increase the dimension of the following array?\\n [[1, 2, 3, 4]\\n [5, 6, 7, 8],\\n [9, 10, 11, 12]]'"
            ],
            "application/vnd.google.colaboratory.intrinsic+json": {
              "type": "string"
            }
          },
          "metadata": {},
          "execution_count": 43
        }
      ]
    },
    {
      "cell_type": "code",
      "source": [
        "arr4=np.array([[1,2,3,4],\n",
        "               [5,6,7,8],\n",
        "               [9,10,11,12]])\n",
        "arr4_expand=np.expand_dims(arr4,axis=0)\n",
        "arr4_expand.ndim"
      ],
      "metadata": {
        "colab": {
          "base_uri": "https://localhost:8080/"
        },
        "id": "MNgqLgINDEZ4",
        "outputId": "02012f2e-e760-4ce4-e9fd-b2abc1feb99d"
      },
      "execution_count": 50,
      "outputs": [
        {
          "output_type": "execute_result",
          "data": {
            "text/plain": [
              "3"
            ]
          },
          "metadata": {},
          "execution_count": 50
        }
      ]
    },
    {
      "cell_type": "code",
      "source": [
        "\"\"\"\n",
        " 10. How to transpose the following array in NumPy?\n",
        " [[1, 2, 3, 4]\n",
        " [5, 6, 7, 8],\n",
        " [9, 10, 11, 12]]\"\"\""
      ],
      "metadata": {
        "colab": {
          "base_uri": "https://localhost:8080/",
          "height": 36
        },
        "id": "PZ0inYRrEoFn",
        "outputId": "c0f76855-0f54-4dd2-d39c-1061a37db1fd"
      },
      "execution_count": 53,
      "outputs": [
        {
          "output_type": "execute_result",
          "data": {
            "text/plain": [
              "'\\n 10. How to transpose the following array in NumPy?\\n [[1, 2, 3, 4]\\n [5, 6, 7, 8],\\n [9, 10, 11, 12]]'"
            ],
            "application/vnd.google.colaboratory.intrinsic+json": {
              "type": "string"
            }
          },
          "metadata": {},
          "execution_count": 53
        }
      ]
    },
    {
      "cell_type": "code",
      "source": [
        "orignal_arr=np.array([[1,2,3,4],\n",
        "                     [5,6,7,8],\n",
        "                     [9,10,11,12]])\n",
        "transpose_arr=orignal_arr.transpose()\n",
        "print(\"orignal array :-\")\n",
        "print(orignal_arr)\n",
        "print(\"transepose array:-\")\n",
        "print(transpose_arr)"
      ],
      "metadata": {
        "colab": {
          "base_uri": "https://localhost:8080/"
        },
        "id": "-EjWOJ_FFefw",
        "outputId": "12a3bca2-2cd9-48d5-a8d9-52d83ec5903b"
      },
      "execution_count": 56,
      "outputs": [
        {
          "output_type": "stream",
          "name": "stdout",
          "text": [
            "orignal array :-\n",
            "[[ 1  2  3  4]\n",
            " [ 5  6  7  8]\n",
            " [ 9 10 11 12]]\n",
            "transepose array:-\n",
            "[[ 1  5  9]\n",
            " [ 2  6 10]\n",
            " [ 3  7 11]\n",
            " [ 4  8 12]]\n"
          ]
        }
      ]
    },
    {
      "cell_type": "code",
      "source": [
        "\"\"\"\n",
        " 11. Consider the following matrix:\n",
        " Matrix A: [[1, 2, 3, 4] [5, 6, 7, 8],[9, 10, 11, 12]]\n",
        " Matrix B: [[1, 2, 3, 4] [5, 6, 7, 8],[9, 10, 11, 12]]\n",
        "  Perform the following operation using Python\n",
        " 1.Index wise multiplicatio\n",
        " 2.Matrix multiplicatio\n",
        " 3.Add both the matric\n",
        " 4.Subtract matrix B from\n",
        " 5.Divide Matrix B by A\n",
        " \"\"\""
      ],
      "metadata": {
        "colab": {
          "base_uri": "https://localhost:8080/",
          "height": 53
        },
        "id": "Lop3YdHKKnDq",
        "outputId": "9d6b06d3-e085-4361-bb98-9011a23ef5d8"
      },
      "execution_count": 58,
      "outputs": [
        {
          "output_type": "execute_result",
          "data": {
            "text/plain": [
              "'\\n 11. Consider the following matrix:\\n Matrix A: [[1, 2, 3, 4] [5, 6, 7, 8],[9, 10, 11, 12]]\\n Matrix B: [[1, 2, 3, 4] [5, 6, 7, 8],[9, 10, 11, 12]]\\n  Perform the following operation using Python\\n 1.Index wise multiplicatio\\n 2.Matrix multiplicatio\\n 3.Add both the matric\\n 4.Subtract matrix B from \\n 5.Divide Matrix B by A\\n '"
            ],
            "application/vnd.google.colaboratory.intrinsic+json": {
              "type": "string"
            }
          },
          "metadata": {},
          "execution_count": 58
        }
      ]
    },
    {
      "cell_type": "code",
      "source": [
        "matrix_A=np.array([[1,2,3,4],\n",
        "                   [5,6,7,8],\n",
        "                  [9,10,11,12]])\n",
        "matrix_B=np.array([[1,2,3,4],\n",
        "                   [5,6,7,8],\n",
        "                   [9,10,11,12]])\n",
        "index_wise_multiplication=matrix_A*matrix_B\n",
        "matrix_multiplication=np.dot(matrix_A ,matrix_B.T)\n",
        "add_matrix=matrix_A+matrix_B\n",
        "subtract_matrix=matrix_A - matrix_B\n",
        "divide_matrix= np.divide(matrix_B, matrix_A)\n",
        "print(\"index wise multiplication:\")\n",
        "print(index_wise_multiplication)\n",
        "print(\"matrix_multiplication:\")\n",
        "print(matrix_multiplication)\n",
        "print(\"addition of matrix are:\")\n",
        "print(add_matrix)\n",
        "print(\"subtraction of matrix\")\n",
        "print(subtract_matrix)\n",
        "print(\"divide matric B by A are:\")\n",
        "print(divide_matrix)"
      ],
      "metadata": {
        "colab": {
          "base_uri": "https://localhost:8080/"
        },
        "id": "0m8E9WwzLUDg",
        "outputId": "eef9ad65-6f56-4062-f724-1d037d586440"
      },
      "execution_count": 61,
      "outputs": [
        {
          "output_type": "stream",
          "name": "stdout",
          "text": [
            "index wise multiplication:\n",
            "[[  1   4   9  16]\n",
            " [ 25  36  49  64]\n",
            " [ 81 100 121 144]]\n",
            "matrix_multiplication:\n",
            "[[ 30  70 110]\n",
            " [ 70 174 278]\n",
            " [110 278 446]]\n",
            "addition of matrix are:\n",
            "[[ 2  4  6  8]\n",
            " [10 12 14 16]\n",
            " [18 20 22 24]]\n",
            "subtraction of matrix\n",
            "[[0 0 0 0]\n",
            " [0 0 0 0]\n",
            " [0 0 0 0]]\n",
            "divide matric B by A are:\n",
            "[[1. 1. 1. 1.]\n",
            " [1. 1. 1. 1.]\n",
            " [1. 1. 1. 1.]]\n"
          ]
        }
      ]
    },
    {
      "cell_type": "code",
      "source": [
        "\" 12.  Which function in Numpy can be used to swap the byte order of an array?\""
      ],
      "metadata": {
        "colab": {
          "base_uri": "https://localhost:8080/",
          "height": 36
        },
        "id": "uaHGMezAQbUK",
        "outputId": "564a24c9-b064-4312-c8bc-bc20e07bf4c8"
      },
      "execution_count": 62,
      "outputs": [
        {
          "output_type": "execute_result",
          "data": {
            "text/plain": [
              "' 12.  Which function in Numpy can be used to swap the byte order of an array?'"
            ],
            "application/vnd.google.colaboratory.intrinsic+json": {
              "type": "string"
            }
          },
          "metadata": {},
          "execution_count": 62
        }
      ]
    },
    {
      "cell_type": "code",
      "source": [
        "# byteswap function is used to swap the byte order of an array\n",
        "arr5=np.array([1,2,3,4,5])\n",
        "swapped_array=arr5.byteswap()\n",
        "swapped_array"
      ],
      "metadata": {
        "colab": {
          "base_uri": "https://localhost:8080/"
        },
        "id": "OK2cAh6zStb2",
        "outputId": "2bcef54a-9e0b-4804-c228-101fc36e20d9"
      },
      "execution_count": 64,
      "outputs": [
        {
          "output_type": "execute_result",
          "data": {
            "text/plain": [
              "array([ 72057594037927936, 144115188075855872, 216172782113783808,\n",
              "       288230376151711744, 360287970189639680])"
            ]
          },
          "metadata": {},
          "execution_count": 64
        }
      ]
    },
    {
      "cell_type": "code",
      "source": [
        "\"13.  What is the significance of the np.linalg.inv function?\""
      ],
      "metadata": {
        "colab": {
          "base_uri": "https://localhost:8080/",
          "height": 36
        },
        "id": "K6ASP0Y5VI8A",
        "outputId": "31500ce1-8f10-4bba-be87-9232880f3fe4"
      },
      "execution_count": 65,
      "outputs": [
        {
          "output_type": "execute_result",
          "data": {
            "text/plain": [
              "'13.  What is the significance of the np.linalg.inv function?'"
            ],
            "application/vnd.google.colaboratory.intrinsic+json": {
              "type": "string"
            }
          },
          "metadata": {},
          "execution_count": 65
        }
      ]
    },
    {
      "cell_type": "code",
      "source": [
        "# The np.linalg.inv function in NumPy is used to compute the inverse of a square matrix.\n",
        "A=np.array([[1,2],\n",
        "            [3,4]])\n",
        "inverse_A=np.linalg.inv(A)\n",
        "inverse_A"
      ],
      "metadata": {
        "colab": {
          "base_uri": "https://localhost:8080/"
        },
        "id": "5gxVx5XxWE20",
        "outputId": "6615d07a-9f3b-4aae-a3ca-d23a4a750307"
      },
      "execution_count": 66,
      "outputs": [
        {
          "output_type": "execute_result",
          "data": {
            "text/plain": [
              "array([[-2. ,  1. ],\n",
              "       [ 1.5, -0.5]])"
            ]
          },
          "metadata": {},
          "execution_count": 66
        }
      ]
    },
    {
      "cell_type": "code",
      "source": [
        "\"14. What does the np.reshape function do, and how is it used?\""
      ],
      "metadata": {
        "colab": {
          "base_uri": "https://localhost:8080/",
          "height": 36
        },
        "id": "HNr-Ji4CXRN-",
        "outputId": "35b82142-aa4e-40e9-969d-af96d08ad9c5"
      },
      "execution_count": 67,
      "outputs": [
        {
          "output_type": "execute_result",
          "data": {
            "text/plain": [
              "'14. What does the np.reshape function do, and how is it used?'"
            ],
            "application/vnd.google.colaboratory.intrinsic+json": {
              "type": "string"
            }
          },
          "metadata": {},
          "execution_count": 67
        }
      ]
    },
    {
      "cell_type": "code",
      "source": [
        "# The np.reshape function in NumPy is used to change the shape (dimensions) of an array without changing its data.\n",
        "# but condition is matrix_A(row*coloum)==total no of element in matrix_A\n",
        "arr6=np.random.randint(1,5, size=(3,4))\n",
        "matrix_A=arr6\n",
        "matrix_reshape=matrix_A.reshape(6,2)\n",
        "print(\"Orignal_matrix_A\")\n",
        "print(matrix_A)\n",
        "print(\"After reshaping a matrix :\")\n",
        "print(matrix_reshape)"
      ],
      "metadata": {
        "colab": {
          "base_uri": "https://localhost:8080/"
        },
        "id": "UR7gMvKnXv-V",
        "outputId": "501a5bb6-95ef-4bd7-bc1a-965262456778"
      },
      "execution_count": 71,
      "outputs": [
        {
          "output_type": "stream",
          "name": "stdout",
          "text": [
            "Orignal_matrix_A\n",
            "[[1 4 2 1]\n",
            " [4 4 1 1]\n",
            " [4 1 1 1]]\n",
            "After reshaping a matrix :\n",
            "[[1 4]\n",
            " [2 1]\n",
            " [4 4]\n",
            " [1 1]\n",
            " [4 1]\n",
            " [1 1]]\n"
          ]
        }
      ]
    },
    {
      "cell_type": "code",
      "source": [
        "\" 15. What is broadcasting in Numpy?\""
      ],
      "metadata": {
        "colab": {
          "base_uri": "https://localhost:8080/",
          "height": 36
        },
        "id": "7fg340eUZ2s9",
        "outputId": "9309388b-0eec-4176-e977-68a160d24499"
      },
      "execution_count": 72,
      "outputs": [
        {
          "output_type": "execute_result",
          "data": {
            "text/plain": [
              "' 15. What is broadcasting in Numpy?'"
            ],
            "application/vnd.google.colaboratory.intrinsic+json": {
              "type": "string"
            }
          },
          "metadata": {},
          "execution_count": 72
        }
      ]
    },
    {
      "cell_type": "code",
      "source": [
        "# Broadcasting is a powerful mechanism in NumPy that allows us to perform operations on arrays of different shapes.\n",
        "# This can be very useful for simplifying code and making it more efficient."
      ],
      "metadata": {
        "id": "kUiwJ_GTbGFJ"
      },
      "execution_count": 73,
      "outputs": []
    },
    {
      "cell_type": "code",
      "source": [],
      "metadata": {
        "id": "lGYFa92ZcM0p"
      },
      "execution_count": null,
      "outputs": []
    }
  ]
}